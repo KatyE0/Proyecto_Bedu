{
  "nbformat": 4,
  "nbformat_minor": 0,
  "metadata": {
    "colab": {
      "provenance": [],
      "authorship_tag": "ABX9TyPtKpVVDPHGOwn2Nf/TGgGE",
      "include_colab_link": true
    },
    "kernelspec": {
      "name": "python3",
      "display_name": "Python 3"
    },
    "language_info": {
      "name": "python"
    }
  },
  "cells": [
    {
      "cell_type": "markdown",
      "metadata": {
        "id": "view-in-github",
        "colab_type": "text"
      },
      "source": [
        "<a href=\"https://colab.research.google.com/github/KatyE0/Proyecto_Bedu/blob/main/salud_mental_en_universitarios.ipynb\" target=\"_parent\"><img src=\"https://colab.research.google.com/assets/colab-badge.svg\" alt=\"Open In Colab\"/></a>"
      ]
    },
    {
      "cell_type": "markdown",
      "source": [
        "# Salud Mental de estudiantes universitarios durante la pendemia del 2020\n",
        "\n",
        "\n",
        "\n",
        "> Importacion y limpieza de datos\n",
        "\n",
        "\n",
        "\n"
      ],
      "metadata": {
        "id": "QuGLOPrRH5BG"
      }
    },
    {
      "cell_type": "code",
      "execution_count": null,
      "metadata": {
        "id": "80IziObXHby4"
      },
      "outputs": [],
      "source": [
        "# Implementación de las librerias utilizadas.\n",
        "import pandas as pd\n",
        "\n",
        "# Generamos una variable con la ruta parcial.\n",
        "dataset= \"/drive/MyDrive/Colab_Notebooks/Proyecto_Bedu\"\n",
        "\n",
        "\n",
        "# Declaracion de variables generales.\n",
        "df = pd.DataFrame()\n",
        "df_current = pd.DataFrame()\n",
        "\n",
        "try:\n",
        "  # Cargamos el archivo, para su principal lectura y procesamiento de datos.\n",
        "  df = pd.read_csv(dataset + 'Salary_Professions.csv')\n",
        "  display(df)\n",
        "except Exception as e:\n",
        "  print(\"Algo ocurrio con la lectura del archivo verifica la ruta\")\n",
        "  print(f'Error: {e}')\n",
        "else:\n",
        "  print(\"Lectura finalizada\")"
      ]
    }
  ]
}